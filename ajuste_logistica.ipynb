{
 "cells": [
  {
   "cell_type": "markdown",
   "metadata": {},
   "source": [
    "# Comparación entre Modelos de Clasificación"
   ]
  },
  {
   "cell_type": "code",
   "execution_count": 15,
   "metadata": {},
   "outputs": [
    {
     "name": "stdout",
     "output_type": "stream",
     "text": [
      "The autoreload extension is already loaded. To reload it, use:\n",
      "  %reload_ext autoreload\n"
     ]
    }
   ],
   "source": [
    "%load_ext autoreload\n",
    "%autoreload 2\n",
    "\n",
    "import pandas as pd\n",
    "\n",
    "from src import soporte_comparacion_modelos as sup_mod\n",
    "\n",
    "import shap\n",
    "\n",
    "import time\n",
    "\n",
    "import seaborn as sns\n",
    "import warnings\n",
    "warnings.filterwarnings(\"ignore\")"
   ]
  },
  {
   "cell_type": "markdown",
   "metadata": {},
   "source": [
    "---\n",
    "---\n",
    "\n",
    "## Importamos los datos"
   ]
  },
  {
   "cell_type": "code",
   "execution_count": 16,
   "metadata": {},
   "outputs": [
    {
     "data": {
      "text/html": [
       "<div>\n",
       "<style scoped>\n",
       "    .dataframe tbody tr th:only-of-type {\n",
       "        vertical-align: middle;\n",
       "    }\n",
       "\n",
       "    .dataframe tbody tr th {\n",
       "        vertical-align: top;\n",
       "    }\n",
       "\n",
       "    .dataframe thead th {\n",
       "        text-align: right;\n",
       "    }\n",
       "</style>\n",
       "<table border=\"1\" class=\"dataframe\">\n",
       "  <thead>\n",
       "    <tr style=\"text-align: right;\">\n",
       "      <th></th>\n",
       "      <th>is_fraudulent</th>\n",
       "      <th>card_type_American Express</th>\n",
       "      <th>card_type_Discover</th>\n",
       "      <th>card_type_MasterCard</th>\n",
       "      <th>card_type_Visa</th>\n",
       "      <th>location_City-1</th>\n",
       "      <th>location_City-10</th>\n",
       "      <th>location_City-11</th>\n",
       "      <th>location_City-12</th>\n",
       "      <th>location_City-13</th>\n",
       "      <th>...</th>\n",
       "      <th>location_City-48</th>\n",
       "      <th>location_City-49</th>\n",
       "      <th>location_City-5</th>\n",
       "      <th>location_City-50</th>\n",
       "      <th>location_City-6</th>\n",
       "      <th>location_City-7</th>\n",
       "      <th>location_City-8</th>\n",
       "      <th>location_City-9</th>\n",
       "      <th>purchase_category</th>\n",
       "      <th>customer_age</th>\n",
       "    </tr>\n",
       "  </thead>\n",
       "  <tbody>\n",
       "    <tr>\n",
       "      <th>5298</th>\n",
       "      <td>0</td>\n",
       "      <td>0.0</td>\n",
       "      <td>0.0</td>\n",
       "      <td>1.0</td>\n",
       "      <td>0.0</td>\n",
       "      <td>0.0</td>\n",
       "      <td>0.0</td>\n",
       "      <td>0.0</td>\n",
       "      <td>0.0</td>\n",
       "      <td>0.0</td>\n",
       "      <td>...</td>\n",
       "      <td>0.0</td>\n",
       "      <td>0.0</td>\n",
       "      <td>0.0</td>\n",
       "      <td>0.0</td>\n",
       "      <td>0.0</td>\n",
       "      <td>0.0</td>\n",
       "      <td>0.0</td>\n",
       "      <td>0.0</td>\n",
       "      <td>0.900628</td>\n",
       "      <td>0.826923</td>\n",
       "    </tr>\n",
       "  </tbody>\n",
       "</table>\n",
       "<p>1 rows × 57 columns</p>\n",
       "</div>"
      ],
      "text/plain": [
       "      is_fraudulent  card_type_American Express  card_type_Discover  \\\n",
       "5298              0                         0.0                 0.0   \n",
       "\n",
       "      card_type_MasterCard  card_type_Visa  location_City-1  location_City-10  \\\n",
       "5298                   1.0             0.0              0.0               0.0   \n",
       "\n",
       "      location_City-11  location_City-12  location_City-13  ...  \\\n",
       "5298               0.0               0.0               0.0  ...   \n",
       "\n",
       "      location_City-48  location_City-49  location_City-5  location_City-50  \\\n",
       "5298               0.0               0.0              0.0               0.0   \n",
       "\n",
       "      location_City-6  location_City-7  location_City-8  location_City-9  \\\n",
       "5298              0.0              0.0              0.0              0.0   \n",
       "\n",
       "      purchase_category  customer_age  \n",
       "5298           0.900628      0.826923  \n",
       "\n",
       "[1 rows x 57 columns]"
      ]
     },
     "execution_count": 16,
     "metadata": {},
     "output_type": "execute_result"
    }
   ],
   "source": [
    "df = pd.read_pickle('datos/encoded_financial_data.pkl')\n",
    "df.sample()"
   ]
  },
  {
   "cell_type": "markdown",
   "metadata": {},
   "source": [
    "## Separamos nuestras variables X e y."
   ]
  },
  {
   "cell_type": "code",
   "execution_count": 17,
   "metadata": {},
   "outputs": [],
   "source": [
    "X = df.drop(columns=['is_fraudulent'])\n",
    "y = df['is_fraudulent']"
   ]
  },
  {
   "cell_type": "markdown",
   "metadata": {},
   "source": [
    "## Definimos las combinaciones de parametros que les proporcionaremos a los diferentes modelos."
   ]
  },
  {
   "cell_type": "code",
   "execution_count": 18,
   "metadata": {},
   "outputs": [],
   "source": [
    "parametros_logistic =  [{'penalty': ['l1'], 'solver': ['saga'], 'C': [0.001, 0.01, 0.1, 1, 10, 100], 'max_iter': [10000]},\n",
    "    {'penalty': ['l2'], 'solver': ['liblinear'], 'C': [0.001, 0.01, 0.1, 1, 10, 100], 'max_iter': [10000]},\n",
    "    {'penalty': ['elasticnet'], 'solver': ['saga'], 'l1_ratio': [0.1, 0.3, 0.5, 0.7, 0.9], 'C': [0.001, 0.01, 0.1, 1, 10, 100], 'max_iter': [10000]},\n",
    "    {'penalty': ['none'], 'solver': ['lbfgs'], 'max_iter': [10000]}]\n",
    "\n",
    "parametros_dt = {'max_depth': [4, 10, 14, 25, 40],\n",
    "            'min_samples_split': [6, 8, 10, 15, 20, 25],\n",
    "            'min_samples_leaf': [6, 8, 10, 15, 20, 25],\n",
    "            'max_leaf_nodes': [10, 15, 20, 25, 40, 60, 90, 110]}\n",
    "\n",
    "parametros_rf = {\n",
    "            'n_estimators' : [10,20,30,40],\n",
    "            'max_depth': [5, 10, 15],\n",
    "            'min_samples_split': [8, 10, 15, 20],\n",
    "            'min_samples_leaf': [6, 8, 10, 15, 20],\n",
    "            'max_leaf_nodes': [10, 15, 20, 25]\n",
    "}\n",
    "\n",
    "parametros_gb = {\n",
    "    'n_estimators': [50,100],\n",
    "    'max_depth': [3,5,7],\n",
    "    'min_samples_split': [3,4,7],\n",
    "    'min_samples_leaf': [3,4,7],\n",
    "    'max_leaf_nodes': [6,10,12]\n",
    "}\n",
    "\n",
    "parametros_xgb = {\n",
    "        'n_estimators': [100, 200],\n",
    "        'learning_rate': [0.01, 0.1, 0.2],\n",
    "        'max_depth': [3, 4, 5],\n",
    "        'min_child_weight': [1, 3, 5],\n",
    "        'subsample': [0.8, 1.0],\n",
    "        'colsample_bytree': [0.8, 1.0]\n",
    "}"
   ]
  },
  {
   "cell_type": "markdown",
   "metadata": {},
   "source": [
    "## Declaramos nuestra clase modelo la cual nos hará el trabajo más sencillo"
   ]
  },
  {
   "cell_type": "code",
   "execution_count": 19,
   "metadata": {},
   "outputs": [],
   "source": [
    "model = sup_mod.ClassificationModel(X, y, random_state=42)"
   ]
  },
  {
   "cell_type": "markdown",
   "metadata": {},
   "source": [
    "##  Ahora entrenamos a cada uno de los modelos"
   ]
  },
  {
   "cell_type": "code",
   "execution_count": 20,
   "metadata": {},
   "outputs": [
    {
     "name": "stdout",
     "output_type": "stream",
     "text": [
      "Training Regresión Logística\n",
      "\n",
      "Fitting 5 folds for each of 43 candidates, totalling 215 fits\n",
      "\n",
      "Time: 12.488847732543945\n",
      "\n",
      "LogisticRegression(C=0.01, max_iter=10000, penalty='l1', random_state=42,\n",
      "                   solver='saga')\n",
      "--------------------------------------------------------------------------------\n"
     ]
    }
   ],
   "source": [
    "print(\"Training Regresión Logística\\n\")\n",
    "start_time = time.time()\n",
    "logistic = model.train(\"logistic\", params=parametros_logistic, scoring=\"recall\", verbose = 1)\n",
    "print()\n",
    "print(\"Time:\", time.time() - start_time)\n",
    "print()\n",
    "print(logistic)\n",
    "print(\"----\"*20)"
   ]
  },
  {
   "cell_type": "code",
   "execution_count": 21,
   "metadata": {},
   "outputs": [
    {
     "name": "stdout",
     "output_type": "stream",
     "text": [
      "Training Árbol de Decisión\n",
      "\n",
      "Fitting 5 folds for each of 1440 candidates, totalling 7200 fits\n",
      "\n",
      "Time: 51.45868968963623\n",
      "\n",
      "DecisionTreeClassifier(max_depth=10, max_leaf_nodes=10, min_samples_leaf=6,\n",
      "                       min_samples_split=6, random_state=42)\n",
      "--------------------------------------------------------------------------------\n"
     ]
    }
   ],
   "source": [
    "print(\"Training Árbol de Decisión\\n\")\n",
    "start_time = time.time()\n",
    "decisiontree = model.train(\"decision_tree\", params = parametros_dt, scoring=\"recall\", verbose = 1)\n",
    "print()\n",
    "print(\"Time:\", time.time() - start_time)\n",
    "print()\n",
    "print(decisiontree)\n",
    "print(\"----\"*20)"
   ]
  },
  {
   "cell_type": "code",
   "execution_count": null,
   "metadata": {},
   "outputs": [
    {
     "name": "stdout",
     "output_type": "stream",
     "text": [
      "Training Random Forest\n",
      "\n",
      "Fitting 5 folds for each of 960 candidates, totalling 4800 fits\n"
     ]
    }
   ],
   "source": [
    "print(\"Training Random Forest\\n\")\n",
    "start_time = time.time()\n",
    "randomforest = model.train(\"random_forest\", params = parametros_rf, scoring=\"recall\", verbose = 1)\n",
    "print()\n",
    "print(\"Time:\", time.time() - start_time)\n",
    "print()\n",
    "print(randomforest)\n",
    "print(\"----\"*20)"
   ]
  },
  {
   "cell_type": "code",
   "execution_count": null,
   "metadata": {},
   "outputs": [],
   "source": [
    "print(\"Training Gradient Boosting\\n\")\n",
    "start_time = time.time()\n",
    "gradientboost = model.train(\"gradient_boosting\", params = parametros_gb, scoring=\"recall\", verbose = 1)\n",
    "print()\n",
    "print(\"Time:\", time.time() - start_time)\n",
    "print()\n",
    "print(gradientboost)\n",
    "print(\"----\"*20)"
   ]
  },
  {
   "cell_type": "code",
   "execution_count": null,
   "metadata": {},
   "outputs": [],
   "source": [
    "print(\"Training XGBoost\\n\")\n",
    "start_time = time.time()\n",
    "xgboost = model.train(\"xgboost\", params = parametros_xgb, scoring=\"recall\", verbose = 1)\n",
    "print()\n",
    "print(\"Time:\", time.time() - start_time)\n",
    "print()\n",
    "print(xgboost)"
   ]
  },
  {
   "cell_type": "code",
   "execution_count": null,
   "metadata": {},
   "outputs": [],
   "source": [
    "model.plot_confusion_matrix()"
   ]
  },
  {
   "cell_type": "code",
   "execution_count": null,
   "metadata": {},
   "outputs": [],
   "source": [
    "model.plot_roc_curves()\n"
   ]
  },
  {
   "cell_type": "code",
   "execution_count": null,
   "metadata": {},
   "outputs": [],
   "source": [
    "df_metrics = pd.DataFrame()\n",
    "for k in model.resultados.keys():\n",
    "    df_it = model.resultados[k][\"metrics\"]\n",
    "    df_it[\"method\"] = k\n",
    "    df_metrics = pd.concat([df_metrics, df_it])\n",
    "\n",
    "df_resultados_colores = df_metrics.copy()\n",
    "df_resultados_colores.reset_index(inplace = True)\n",
    "df_resultados_colores = df_resultados_colores.style.apply(sup_mod.color_filas_por_modelo, axis=1)\n",
    "df_resultados_colores"
   ]
  }
 ],
 "metadata": {
  "kernelspec": {
   "display_name": "proyecto4",
   "language": "python",
   "name": "python3"
  },
  "language_info": {
   "codemirror_mode": {
    "name": "ipython",
    "version": 3
   },
   "file_extension": ".py",
   "mimetype": "text/x-python",
   "name": "python",
   "nbconvert_exporter": "python",
   "pygments_lexer": "ipython3",
   "version": "3.12.4"
  }
 },
 "nbformat": 4,
 "nbformat_minor": 2
}
